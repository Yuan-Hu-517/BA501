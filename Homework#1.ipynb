{
 "cells": [
  {
   "cell_type": "markdown",
   "metadata": {
    "collapsed": true
   },
   "source": [
    "# Homework 1"
   ]
  },
  {
   "cell_type": "markdown",
   "metadata": {},
   "source": [
    "How can you handle duplicate values in a dataset in Python?"
   ]
  },
  {
   "cell_type": "code",
   "execution_count": null,
   "metadata": {
    "collapsed": true
   },
   "outputs": [],
   "source": [
    "import numpy as np\n",
    "import pandas as pd"
   ]
  },
  {
   "cell_type": "code",
   "execution_count": 7,
   "metadata": {
    "collapsed": true
   },
   "outputs": [],
   "source": [
    "a = np.array([1,1,2,3,3,4,4,5])"
   ]
  },
  {
   "cell_type": "code",
   "execution_count": 8,
   "metadata": {},
   "outputs": [
    {
     "data": {
      "text/plain": [
       "array([1, 2, 3, 4, 5])"
      ]
     },
     "execution_count": 8,
     "metadata": {},
     "output_type": "execute_result"
    }
   ],
   "source": [
    "np.unique(a)"
   ]
  },
  {
   "cell_type": "markdown",
   "metadata": {
    "collapsed": true
   },
   "source": [
    "# Homework 2"
   ]
  },
  {
   "cell_type": "markdown",
   "metadata": {},
   "source": [
    "You are given two tables - friend_request and request_accepted. Friend_request contains requester_id, time and sent_to_id and request_accepted table contains time, acceptor_id and requestor_id. How will you determine the overall acceptance rate of requests?"
   ]
  },
  {
   "cell_type": "code",
   "execution_count": null,
   "metadata": {
    "collapsed": true
   },
   "outputs": [],
   "source": [
    "SELECT DISTINCT(requestor_id, sent_to_id)\n",
    "INTO friend_request\n",
    "FROM friend_request\n",
    "\n",
    "SELECT DISTINCT(requestor_id, acceptor_id)\n",
    "INTO request_accepted\n",
    "FROM request_accepted\n",
    "\n",
    "SELECT COUNT(ra.requestor_id) / COUNT(fr.requestor_id) AS Acceptance_Rate\n",
    "FROM friend_request fr\n",
    "LEFT JOIN request_accepted ra\n",
    "    ON fr.requestor_id = ra.requestor_id AND fr.send_to_id = ra.acceptor_id"
   ]
  },
  {
   "cell_type": "code",
   "execution_count": null,
   "metadata": {
    "collapsed": true
   },
   "outputs": [],
   "source": [
    "friend_request.sort('time').drop_duplicates(subset=['requestor_id', 'send_to_id'], take_last=True)\n",
    "request_accepted.sort('time').drop_duplicates(subset=['requestor_id', 'acceptor_id'], take_last=True)\n",
    "rate = float(len(request_accepted))/len(friend_request)"
   ]
  },
  {
   "cell_type": "markdown",
   "metadata": {},
   "source": [
    "# Homework 3\n"
   ]
  },
  {
   "cell_type": "code",
   "execution_count": 52,
   "metadata": {},
   "outputs": [],
   "source": [
    "cards = ['4175004175004172','4917491749174917', '346416800707698', '376416800707698', '37641680070769832112', '36641680070769','54545641680070769']"
   ]
  },
  {
   "cell_type": "code",
   "execution_count": 56,
   "metadata": {},
   "outputs": [
    {
     "name": "stdout",
     "output_type": "stream",
     "text": [
      "VISAELECTRON\n",
      "VISAELECTRON\n",
      "AMEX\n",
      "AMEX\n",
      "UNKNOWN\n",
      "Diners Club\n",
      "UNKNOWN\n"
     ]
    }
   ],
   "source": [
    "for card in cards:\n",
    "    if((len(card) == 15) and (card[0:2] == '34' or card[0:2] == '37')):\n",
    "        print(\"AMEX\")\n",
    "    elif((len(card) == 14) and (card[0:2] == '36')):\n",
    "        print('Diners Club')\n",
    "    elif(len(card) == 16 and card[0] == '4'):\n",
    "        if((card[0:4] in ('4026','4405','4508','4844','4913','4917')) or card[0:6] == '417500'):\n",
    "            print('VISAELECTRON')\n",
    "        else:\n",
    "            print('VISA')\n",
    "    else:\n",
    "        print('UNKNOWN')      "
   ]
  }
 ],
 "metadata": {
  "kernelspec": {
   "display_name": "Python 2",
   "language": "python",
   "name": "python2"
  },
  "language_info": {
   "codemirror_mode": {
    "name": "ipython",
    "version": 2
   },
   "file_extension": ".py",
   "mimetype": "text/x-python",
   "name": "python",
   "nbconvert_exporter": "python",
   "pygments_lexer": "ipython2",
   "version": "2.7.14"
  }
 },
 "nbformat": 4,
 "nbformat_minor": 2
}
